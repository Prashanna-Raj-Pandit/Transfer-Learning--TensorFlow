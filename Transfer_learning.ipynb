{
  "nbformat": 4,
  "nbformat_minor": 0,
  "metadata": {
    "colab": {
      "provenance": [],
      "gpuType": "T4",
      "include_colab_link": true
    },
    "kernelspec": {
      "name": "python3",
      "display_name": "Python 3"
    },
    "language_info": {
      "name": "python"
    },
    "accelerator": "GPU"
  },
  "cells": [
    {
      "cell_type": "markdown",
      "metadata": {
        "id": "view-in-github",
        "colab_type": "text"
      },
      "source": [
        "<a href=\"https://colab.research.google.com/github/Prashanna-Raj-Pandit/Transfer-Learning--TensorFlow/blob/main/Transfer_learning.ipynb\" target=\"_parent\"><img src=\"https://colab.research.google.com/assets/colab-badge.svg\" alt=\"Open In Colab\"/></a>"
      ]
    },
    {
      "cell_type": "code",
      "execution_count": 1,
      "metadata": {
        "id": "RriL6uEnbl8E"
      },
      "outputs": [],
      "source": [
        "import tensorflow_datasets as tfds\n",
        "import tensorflow as tf"
      ]
    },
    {
      "cell_type": "code",
      "source": [
        "dataset, info = tfds.load(\"tf_flowers\",\n",
        "                          as_supervised=True,\n",
        "                          with_info=True)"
      ],
      "metadata": {
        "id": "SwToEzgVbt1u"
      },
      "execution_count": 2,
      "outputs": []
    },
    {
      "cell_type": "code",
      "source": [
        "info"
      ],
      "metadata": {
        "id": "Zm-JkSSc_Toq",
        "outputId": "72afb58f-1f75-4863-fd1e-9a307d9c50ff",
        "colab": {
          "base_uri": "https://localhost:8080/"
        }
      },
      "execution_count": 14,
      "outputs": [
        {
          "output_type": "execute_result",
          "data": {
            "text/plain": [
              "tfds.core.DatasetInfo(\n",
              "    name='tf_flowers',\n",
              "    full_name='tf_flowers/3.0.1',\n",
              "    description=\"\"\"\n",
              "    A large set of images of flowers\n",
              "    \"\"\",\n",
              "    homepage='https://www.tensorflow.org/tutorials/load_data/images',\n",
              "    data_dir='/root/tensorflow_datasets/tf_flowers/3.0.1',\n",
              "    file_format=tfrecord,\n",
              "    download_size=218.21 MiB,\n",
              "    dataset_size=221.83 MiB,\n",
              "    features=FeaturesDict({\n",
              "        'image': Image(shape=(None, None, 3), dtype=uint8),\n",
              "        'label': ClassLabel(shape=(), dtype=int64, num_classes=5),\n",
              "    }),\n",
              "    supervised_keys=('image', 'label'),\n",
              "    disable_shuffling=False,\n",
              "    splits={\n",
              "        'train': <SplitInfo num_examples=3670, num_shards=2>,\n",
              "    },\n",
              "    citation=\"\"\"@ONLINE {tfflowers,\n",
              "    author = \"The TensorFlow Team\",\n",
              "    title = \"Flowers\",\n",
              "    month = \"jan\",\n",
              "    year = \"2019\",\n",
              "    url = \"http://download.tensorflow.org/example_images/flower_photos.tgz\" }\"\"\",\n",
              ")"
            ]
          },
          "metadata": {},
          "execution_count": 14
        }
      ]
    },
    {
      "cell_type": "code",
      "source": [
        "dataset_size = info.splits[\"train\"].num_examples\n",
        "class_names = info.features[\"label\"].names\n",
        "n_classes = info. features[\"label\"].num_classes\n",
        "dataset_size, class_names, n_classes"
      ],
      "metadata": {
        "id": "PRBCyxTncAeH",
        "outputId": "405a7ad8-ab62-4dbc-960e-4067774fb5bf",
        "colab": {
          "base_uri": "https://localhost:8080/"
        }
      },
      "execution_count": 15,
      "outputs": [
        {
          "output_type": "execute_result",
          "data": {
            "text/plain": [
              "(3670, ['dandelion', 'daisy', 'tulips', 'sunflowers', 'roses'], 5)"
            ]
          },
          "metadata": {},
          "execution_count": 15
        }
      ]
    },
    {
      "cell_type": "code",
      "source": [
        "test_set_raw, valid_set_raw, train_set_raw = tfds.load(\"tf_flowers\",\n",
        "                        split=[\"train[:10%]\",\n",
        "                               \"train[10%:25%]\",\n",
        "                               \"train[25%:]\"],\n",
        "                        as_supervised=True)"
      ],
      "metadata": {
        "id": "fW8yFue-c81b"
      },
      "execution_count": 5,
      "outputs": []
    },
    {
      "cell_type": "code",
      "source": [],
      "metadata": {
        "id": "uLXnqj028O1c"
      },
      "execution_count": 5,
      "outputs": []
    },
    {
      "cell_type": "code",
      "source": [
        "def preprocess(image,label):\n",
        "    resized_image = tf.image.resize(image, [224,224])\n",
        "    final_image = tf.keras.applications.xception.preprocess_input(resized_image) #t scales the pixel values of the input image to the range of -1 to 1.\n",
        "    return final_image, label\n"
      ],
      "metadata": {
        "id": "z8M_BmYOdXdR"
      },
      "execution_count": 6,
      "outputs": []
    },
    {
      "cell_type": "code",
      "source": [
        "\n",
        "train_set = train_set_raw.shuffle(1000)\n",
        "train_set"
      ],
      "metadata": {
        "id": "bX2chGkzLqvk",
        "outputId": "8e307e65-b71f-49ca-e5e3-35e9cb218446",
        "colab": {
          "base_uri": "https://localhost:8080/"
        }
      },
      "execution_count": 18,
      "outputs": [
        {
          "output_type": "execute_result",
          "data": {
            "text/plain": [
              "<_ShuffleDataset element_spec=(TensorSpec(shape=(None, None, 3), dtype=tf.uint8, name=None), TensorSpec(shape=(), dtype=tf.int64, name=None))>"
            ]
          },
          "metadata": {},
          "execution_count": 18
        }
      ]
    },
    {
      "cell_type": "code",
      "source": [
        "batch_size = 32\n",
        "train_set = train_set_raw.shuffle(1000)\n",
        "train_set = train_set.map(preprocess).batch(batch_size).prefetch(1)\n",
        "valid_set = valid_set_raw.map(preprocess).batch(batch_size).prefetch(1)\n",
        "test_set = test_set_raw.map(preprocess).batch(batch_size).prefetch(1)"
      ],
      "metadata": {
        "id": "mi9mPzsfd7pJ",
        "outputId": "05b4584e-7cce-4219-9552-b0ec9b13d753",
        "colab": {
          "base_uri": "https://localhost:8080/"
        }
      },
      "execution_count": 16,
      "outputs": [
        {
          "output_type": "execute_result",
          "data": {
            "text/plain": [
              "<_PrefetchDataset element_spec=(TensorSpec(shape=(None, 224, 224, 3), dtype=tf.float32, name=None), TensorSpec(shape=(None,), dtype=tf.int64, name=None))>"
            ]
          },
          "metadata": {},
          "execution_count": 16
        }
      ]
    },
    {
      "cell_type": "code",
      "source": [
        "base_model = tf.keras.applications.xception.Xception(weights=\"imagenet\",\n",
        "                                            include_top=False)\n",
        "\n",
        "\n",
        "avg = tf.keras.layers.GlobalAveragePooling2D()(base_model.output)\n",
        "output = tf.keras.layers.Dense(n_classes, activation=\"softmax\")(avg)\n",
        "\n",
        "\n",
        "model = tf.keras.Model(inputs=base_model.input, outputs=output)"
      ],
      "metadata": {
        "id": "IHGF1v1_eU2U"
      },
      "execution_count": 8,
      "outputs": []
    },
    {
      "cell_type": "code",
      "source": [
        "for layer in base_model.layers:\n",
        "  layer.trainable = False"
      ],
      "metadata": {
        "id": "1Dx3bFypf8-w"
      },
      "execution_count": 9,
      "outputs": []
    },
    {
      "cell_type": "code",
      "source": [
        "optimizer = tf.keras.optimizers.SGD(learning_rate=0.2,\n",
        "                                    momentum=0.9,\n",
        "                                    decay=0.01)\n",
        "\n",
        "model.compile(loss=\"sparse_categorical_crossentropy\",\n",
        "              optimizer=optimizer,\n",
        "              metrics=[\"accuracy\"])\n",
        "\n",
        "\n",
        "history = model.fit(train_set,\n",
        "                    epochs=5,\n",
        "                    validation_data=valid_set)"
      ],
      "metadata": {
        "colab": {
          "base_uri": "https://localhost:8080/"
        },
        "id": "VWTzFTapgNA9",
        "outputId": "1e625773-3481-4945-9866-db66d6916b30"
      },
      "execution_count": 10,
      "outputs": [
        {
          "output_type": "stream",
          "name": "stdout",
          "text": [
            "Epoch 1/5\n"
          ]
        },
        {
          "output_type": "stream",
          "name": "stderr",
          "text": [
            "/usr/local/lib/python3.11/dist-packages/keras/src/optimizers/base_optimizer.py:86: UserWarning: Argument `decay` is no longer supported and will be ignored.\n",
            "  warnings.warn(\n"
          ]
        },
        {
          "output_type": "stream",
          "name": "stdout",
          "text": [
            "\u001b[1m86/86\u001b[0m \u001b[32m━━━━━━━━━━━━━━━━━━━━\u001b[0m\u001b[37m\u001b[0m \u001b[1m33s\u001b[0m 239ms/step - accuracy: 0.7274 - loss: 1.3830 - val_accuracy: 0.8294 - val_loss: 1.1597\n",
            "Epoch 2/5\n",
            "\u001b[1m86/86\u001b[0m \u001b[32m━━━━━━━━━━━━━━━━━━━━\u001b[0m\u001b[37m\u001b[0m \u001b[1m25s\u001b[0m 154ms/step - accuracy: 0.8667 - loss: 0.8276 - val_accuracy: 0.8348 - val_loss: 1.5091\n",
            "Epoch 3/5\n",
            "\u001b[1m86/86\u001b[0m \u001b[32m━━━━━━━━━━━━━━━━━━━━\u001b[0m\u001b[37m\u001b[0m \u001b[1m21s\u001b[0m 160ms/step - accuracy: 0.8941 - loss: 0.6497 - val_accuracy: 0.8475 - val_loss: 1.3049\n",
            "Epoch 4/5\n",
            "\u001b[1m86/86\u001b[0m \u001b[32m━━━━━━━━━━━━━━━━━━━━\u001b[0m\u001b[37m\u001b[0m \u001b[1m20s\u001b[0m 154ms/step - accuracy: 0.9347 - loss: 0.3497 - val_accuracy: 0.8730 - val_loss: 1.2599\n",
            "Epoch 5/5\n",
            "\u001b[1m86/86\u001b[0m \u001b[32m━━━━━━━━━━━━━━━━━━━━\u001b[0m\u001b[37m\u001b[0m \u001b[1m21s\u001b[0m 155ms/step - accuracy: 0.9527 - loss: 0.3094 - val_accuracy: 0.8530 - val_loss: 1.3203\n"
          ]
        }
      ]
    },
    {
      "cell_type": "code",
      "source": [
        "for layer in base_model.layers:\n",
        "  layer.trainable = True"
      ],
      "metadata": {
        "id": "kDW2Ktf5g1Ua"
      },
      "execution_count": 11,
      "outputs": []
    },
    {
      "cell_type": "code",
      "source": [
        "optimizer = tf.keras.optimizers.SGD(learning_rate=0.01,\n",
        "                                    momentum=0.9,\n",
        "                                    decay=0.001)\n",
        "\n",
        "model.compile(loss=\"sparse_categorical_crossentropy\",\n",
        "              optimizer=optimizer,\n",
        "              metrics=[\"accuracy\"])\n",
        "\n",
        "history = model.fit(train_set,\n",
        "                    epochs=10,\n",
        "                    validation_data=valid_set)"
      ],
      "metadata": {
        "colab": {
          "base_uri": "https://localhost:8080/"
        },
        "id": "wXGos54dkGDZ",
        "outputId": "d8127fc8-5b38-422c-bc6c-12df3f427df6"
      },
      "execution_count": 12,
      "outputs": [
        {
          "output_type": "stream",
          "name": "stdout",
          "text": [
            "Epoch 1/10\n",
            "\u001b[1m86/86\u001b[0m \u001b[32m━━━━━━━━━━━━━━━━━━━━\u001b[0m\u001b[37m\u001b[0m \u001b[1m79s\u001b[0m 531ms/step - accuracy: 0.8110 - loss: 0.7370 - val_accuracy: 0.8040 - val_loss: 1.3182\n",
            "Epoch 2/10\n",
            "\u001b[1m86/86\u001b[0m \u001b[32m━━━━━━━━━━━━━━━━━━━━\u001b[0m\u001b[37m\u001b[0m \u001b[1m58s\u001b[0m 477ms/step - accuracy: 0.9566 - loss: 0.1360 - val_accuracy: 0.8893 - val_loss: 0.3512\n",
            "Epoch 3/10\n",
            "\u001b[1m86/86\u001b[0m \u001b[32m━━━━━━━━━━━━━━━━━━━━\u001b[0m\u001b[37m\u001b[0m \u001b[1m41s\u001b[0m 475ms/step - accuracy: 0.9856 - loss: 0.0485 - val_accuracy: 0.8911 - val_loss: 0.3549\n",
            "Epoch 4/10\n",
            "\u001b[1m86/86\u001b[0m \u001b[32m━━━━━━━━━━━━━━━━━━━━\u001b[0m\u001b[37m\u001b[0m \u001b[1m40s\u001b[0m 469ms/step - accuracy: 0.9913 - loss: 0.0308 - val_accuracy: 0.9002 - val_loss: 0.3351\n",
            "Epoch 5/10\n",
            "\u001b[1m86/86\u001b[0m \u001b[32m━━━━━━━━━━━━━━━━━━━━\u001b[0m\u001b[37m\u001b[0m \u001b[1m42s\u001b[0m 478ms/step - accuracy: 0.9954 - loss: 0.0211 - val_accuracy: 0.9056 - val_loss: 0.4006\n",
            "Epoch 6/10\n",
            "\u001b[1m86/86\u001b[0m \u001b[32m━━━━━━━━━━━━━━━━━━━━\u001b[0m\u001b[37m\u001b[0m \u001b[1m82s\u001b[0m 478ms/step - accuracy: 0.9954 - loss: 0.0166 - val_accuracy: 0.9220 - val_loss: 0.2650\n",
            "Epoch 7/10\n",
            "\u001b[1m86/86\u001b[0m \u001b[32m━━━━━━━━━━━━━━━━━━━━\u001b[0m\u001b[37m\u001b[0m \u001b[1m82s\u001b[0m 476ms/step - accuracy: 0.9971 - loss: 0.0072 - val_accuracy: 0.9220 - val_loss: 0.2990\n",
            "Epoch 8/10\n",
            "\u001b[1m86/86\u001b[0m \u001b[32m━━━━━━━━━━━━━━━━━━━━\u001b[0m\u001b[37m\u001b[0m \u001b[1m82s\u001b[0m 477ms/step - accuracy: 0.9950 - loss: 0.0103 - val_accuracy: 0.9165 - val_loss: 0.3118\n",
            "Epoch 9/10\n",
            "\u001b[1m86/86\u001b[0m \u001b[32m━━━━━━━━━━━━━━━━━━━━\u001b[0m\u001b[37m\u001b[0m \u001b[1m40s\u001b[0m 471ms/step - accuracy: 0.9970 - loss: 0.0080 - val_accuracy: 0.9238 - val_loss: 0.3316\n",
            "Epoch 10/10\n",
            "\u001b[1m86/86\u001b[0m \u001b[32m━━━━━━━━━━━━━━━━━━━━\u001b[0m\u001b[37m\u001b[0m \u001b[1m41s\u001b[0m 474ms/step - accuracy: 0.9932 - loss: 0.0244 - val_accuracy: 0.9165 - val_loss: 0.2866\n"
          ]
        }
      ]
    },
    {
      "cell_type": "code",
      "source": [],
      "metadata": {
        "id": "cbrL2vTb_xrq"
      },
      "execution_count": 12,
      "outputs": []
    }
  ]
}